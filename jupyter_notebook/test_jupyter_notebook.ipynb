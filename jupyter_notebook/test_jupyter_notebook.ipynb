{
 "cells": [
  {
   "cell_type": "markdown",
   "id": "cfc3b718",
   "metadata": {},
   "source": [
    "#python ka chilla with baba aammar\n",
    "##how to use jupyter notebook\n",
    "###basics of python\n",
    "1-my first program\n",
    "2-my second program"
   ]
  },
  {
   "cell_type": "code",
   "execution_count": 2,
   "id": "6436c6fa",
   "metadata": {},
   "outputs": [
    {
     "name": "stdout",
     "output_type": "stream",
     "text": [
      "5\n",
      "hello world\n",
      "i am learning python with dr aammar\n"
     ]
    }
   ],
   "source": [
    "print(2+3)\n",
    "print(\"hello world\")\n",
    "print(\"i am learning python with dr aammar\")"
   ]
  },
  {
   "cell_type": "code",
   "execution_count": 3,
   "id": "e2c15753",
   "metadata": {},
   "outputs": [
    {
     "name": "stdout",
     "output_type": "stream",
     "text": [
      "5\n",
      "2\n",
      "6\n",
      "3.0\n",
      "1\n",
      "3\n",
      "6.5\n"
     ]
    }
   ],
   "source": [
    "#02_operators\n",
    "print(2+3)\n",
    "print(3-1)\n",
    "print(2*3)\n",
    "print(6/2)\n",
    "print(13%2)\n",
    "print(6//2)\n",
    "print(3**2/2*3/3+6-4)\n"
   ]
  },
  {
   "cell_type": "code",
   "execution_count": null,
   "id": "1f89f2bd",
   "metadata": {},
   "outputs": [],
   "source": []
  }
 ],
 "metadata": {
  "kernelspec": {
   "display_name": "Python 3 (ipykernel)",
   "language": "python",
   "name": "python3"
  },
  "language_info": {
   "codemirror_mode": {
    "name": "ipython",
    "version": 3
   },
   "file_extension": ".py",
   "mimetype": "text/x-python",
   "name": "python",
   "nbconvert_exporter": "python",
   "pygments_lexer": "ipython3",
   "version": "3.9.12"
  }
 },
 "nbformat": 4,
 "nbformat_minor": 5
}
