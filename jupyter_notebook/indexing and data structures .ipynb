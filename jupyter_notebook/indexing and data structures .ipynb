{
 "cells": [
  {
   "cell_type": "markdown",
   "id": "878cd084",
   "metadata": {},
   "source": [
    "#indexing "
   ]
  },
  {
   "cell_type": "code",
   "execution_count": 1,
   "id": "2079690a",
   "metadata": {},
   "outputs": [
    {
     "data": {
      "text/plain": [
       "'Samosa Pakora'"
      ]
     },
     "execution_count": 1,
     "metadata": {},
     "output_type": "execute_result"
    }
   ],
   "source": [
    "#make a string \n",
    "a = \"Samosa Pakora\"\n",
    "a"
   ]
  },
  {
   "cell_type": "code",
   "execution_count": 2,
   "id": "d9189f4c",
   "metadata": {},
   "outputs": [
    {
     "data": {
      "text/plain": [
       "'S'"
      ]
     },
     "execution_count": 2,
     "metadata": {},
     "output_type": "execute_result"
    }
   ],
   "source": [
    "a[0]"
   ]
  },
  {
   "cell_type": "code",
   "execution_count": 3,
   "id": "03c4d247",
   "metadata": {},
   "outputs": [
    {
     "data": {
      "text/plain": [
       "'a'"
      ]
     },
     "execution_count": 3,
     "metadata": {},
     "output_type": "execute_result"
    }
   ],
   "source": [
    "a[1]"
   ]
  },
  {
   "cell_type": "code",
   "execution_count": 4,
   "id": "d6154594",
   "metadata": {},
   "outputs": [
    {
     "data": {
      "text/plain": [
       "'o'"
      ]
     },
     "execution_count": 4,
     "metadata": {},
     "output_type": "execute_result"
    }
   ],
   "source": [
    "a[3]"
   ]
  },
  {
   "cell_type": "code",
   "execution_count": 5,
   "id": "988f2f1e",
   "metadata": {},
   "outputs": [
    {
     "data": {
      "text/plain": [
       "13"
      ]
     },
     "execution_count": 5,
     "metadata": {},
     "output_type": "execute_result"
    }
   ],
   "source": [
    "len(a)"
   ]
  },
  {
   "cell_type": "code",
   "execution_count": 6,
   "id": "f847db84",
   "metadata": {},
   "outputs": [
    {
     "ename": "IndexError",
     "evalue": "string index out of range",
     "output_type": "error",
     "traceback": [
      "\u001b[1;31m---------------------------------------------------------------------------\u001b[0m",
      "\u001b[1;31mIndexError\u001b[0m                                Traceback (most recent call last)",
      "Input \u001b[1;32mIn [6]\u001b[0m, in \u001b[0;36m<cell line: 1>\u001b[1;34m()\u001b[0m\n\u001b[1;32m----> 1\u001b[0m \u001b[43ma\u001b[49m\u001b[43m[\u001b[49m\u001b[38;5;241;43m13\u001b[39;49m\u001b[43m]\u001b[49m\n",
      "\u001b[1;31mIndexError\u001b[0m: string index out of range"
     ]
    }
   ],
   "source": [
    "a[13]"
   ]
  },
  {
   "cell_type": "code",
   "execution_count": 7,
   "id": "630c6623",
   "metadata": {},
   "outputs": [
    {
     "data": {
      "text/plain": [
       "'Samosa'"
      ]
     },
     "execution_count": 7,
     "metadata": {},
     "output_type": "execute_result"
    }
   ],
   "source": [
    "#last index is exclusive\n",
    "a[0:6]"
   ]
  },
  {
   "cell_type": "code",
   "execution_count": 8,
   "id": "ef0df425",
   "metadata": {},
   "outputs": [
    {
     "data": {
      "text/plain": [
       "'a'"
      ]
     },
     "execution_count": 8,
     "metadata": {},
     "output_type": "execute_result"
    }
   ],
   "source": [
    "a[12]"
   ]
  },
  {
   "cell_type": "code",
   "execution_count": 9,
   "id": "6c561a53",
   "metadata": {},
   "outputs": [
    {
     "data": {
      "text/plain": [
       "'Samosa Pakora'"
      ]
     },
     "execution_count": 9,
     "metadata": {},
     "output_type": "execute_result"
    }
   ],
   "source": [
    "a[0:13]"
   ]
  },
  {
   "cell_type": "code",
   "execution_count": 10,
   "id": "ce600d36",
   "metadata": {},
   "outputs": [
    {
     "data": {
      "text/plain": [
       "'a'"
      ]
     },
     "execution_count": 10,
     "metadata": {},
     "output_type": "execute_result"
    }
   ],
   "source": [
    "a[-1]"
   ]
  },
  {
   "cell_type": "code",
   "execution_count": 11,
   "id": "bb952032",
   "metadata": {},
   "outputs": [
    {
     "data": {
      "text/plain": [
       "'r'"
      ]
     },
     "execution_count": 11,
     "metadata": {},
     "output_type": "execute_result"
    }
   ],
   "source": [
    "a[-2]"
   ]
  },
  {
   "cell_type": "code",
   "execution_count": 12,
   "id": "8c80c571",
   "metadata": {},
   "outputs": [
    {
     "data": {
      "text/plain": [
       "'pakora'"
      ]
     },
     "execution_count": 12,
     "metadata": {},
     "output_type": "execute_result"
    }
   ],
   "source": [
    "a=\"samosa pakora\"\n",
    "a[-6:]"
   ]
  },
  {
   "cell_type": "code",
   "execution_count": 13,
   "id": "234b2376",
   "metadata": {},
   "outputs": [
    {
     "data": {
      "text/plain": [
       "''"
      ]
     },
     "execution_count": 13,
     "metadata": {},
     "output_type": "execute_result"
    }
   ],
   "source": [
    "a[-6:0]"
   ]
  },
  {
   "cell_type": "code",
   "execution_count": 14,
   "id": "891d8da3",
   "metadata": {},
   "outputs": [
    {
     "data": {
      "text/plain": [
       "'pakora'"
      ]
     },
     "execution_count": 14,
     "metadata": {},
     "output_type": "execute_result"
    }
   ],
   "source": [
    "a[-6:13]"
   ]
  },
  {
   "cell_type": "code",
   "execution_count": 15,
   "id": "d863cba4",
   "metadata": {},
   "outputs": [
    {
     "data": {
      "text/plain": [
       "'biryani'"
      ]
     },
     "execution_count": 15,
     "metadata": {},
     "output_type": "execute_result"
    }
   ],
   "source": [
    "food=\"biryani\"\n",
    "food"
   ]
  },
  {
   "cell_type": "markdown",
   "id": "a534fe17",
   "metadata": {},
   "source": [
    "##STRING METHODS\n"
   ]
  },
  {
   "cell_type": "code",
   "execution_count": 16,
   "id": "f74a1814",
   "metadata": {},
   "outputs": [
    {
     "data": {
      "text/plain": [
       "'biryani'"
      ]
     },
     "execution_count": 16,
     "metadata": {},
     "output_type": "execute_result"
    }
   ],
   "source": [
    "food"
   ]
  },
  {
   "cell_type": "code",
   "execution_count": 17,
   "id": "3e7a9f6c",
   "metadata": {},
   "outputs": [
    {
     "data": {
      "text/plain": [
       "7"
      ]
     },
     "execution_count": 17,
     "metadata": {},
     "output_type": "execute_result"
    }
   ],
   "source": [
    "len(food)"
   ]
  },
  {
   "cell_type": "code",
   "execution_count": 18,
   "id": "2a62171a",
   "metadata": {},
   "outputs": [
    {
     "data": {
      "text/plain": [
       "'Biryani'"
      ]
     },
     "execution_count": 18,
     "metadata": {},
     "output_type": "execute_result"
    }
   ],
   "source": [
    "food.capitalize()"
   ]
  },
  {
   "cell_type": "code",
   "execution_count": 20,
   "id": "c20112fd",
   "metadata": {},
   "outputs": [
    {
     "data": {
      "text/plain": [
       "'BIRYANI'"
      ]
     },
     "execution_count": 20,
     "metadata": {},
     "output_type": "execute_result"
    }
   ],
   "source": [
    "food.upper()"
   ]
  },
  {
   "cell_type": "code",
   "execution_count": 21,
   "id": "3509af50",
   "metadata": {},
   "outputs": [
    {
     "data": {
      "text/plain": [
       "'biryani'"
      ]
     },
     "execution_count": 21,
     "metadata": {},
     "output_type": "execute_result"
    }
   ],
   "source": [
    "food.lower()"
   ]
  },
  {
   "cell_type": "code",
   "execution_count": 22,
   "id": "930821ce",
   "metadata": {},
   "outputs": [
    {
     "data": {
      "text/plain": [
       "'shiryani'"
      ]
     },
     "execution_count": 22,
     "metadata": {},
     "output_type": "execute_result"
    }
   ],
   "source": [
    "food.replace(\"b\",\"sh\")"
   ]
  },
  {
   "cell_type": "code",
   "execution_count": 23,
   "id": "e59f314b",
   "metadata": {},
   "outputs": [
    {
     "data": {
      "text/plain": [
       "'shiryani'"
      ]
     },
     "execution_count": 23,
     "metadata": {},
     "output_type": "execute_result"
    }
   ],
   "source": [
    "food=\"biryani\"\n",
    "food.replace(\"b\",\"sh\")"
   ]
  },
  {
   "cell_type": "code",
   "execution_count": 24,
   "id": "782ae7ae",
   "metadata": {},
   "outputs": [
    {
     "data": {
      "text/plain": [
       "'biryani'"
      ]
     },
     "execution_count": 24,
     "metadata": {},
     "output_type": "execute_result"
    }
   ],
   "source": [
    "food"
   ]
  },
  {
   "cell_type": "code",
   "execution_count": 25,
   "id": "d77361f5",
   "metadata": {},
   "outputs": [
    {
     "data": {
      "text/plain": [
       "9"
      ]
     },
     "execution_count": 25,
     "metadata": {},
     "output_type": "execute_result"
    }
   ],
   "source": [
    "#to count a number of specific alphabets\n",
    "name=\"baba_aammar with dr aammar tufail\"\n",
    "name.count(\"a\")"
   ]
  },
  {
   "cell_type": "code",
   "execution_count": 26,
   "id": "33d66161",
   "metadata": {},
   "outputs": [
    {
     "data": {
      "text/plain": [
       "4"
      ]
     },
     "execution_count": 26,
     "metadata": {},
     "output_type": "execute_result"
    }
   ],
   "source": [
    "name.count(\"m\")"
   ]
  },
  {
   "cell_type": "markdown",
   "id": "a3f50129",
   "metadata": {},
   "source": [
    "### finding an index number in string."
   ]
  },
  {
   "cell_type": "code",
   "execution_count": 27,
   "id": "1b62c683",
   "metadata": {},
   "outputs": [
    {
     "data": {
      "text/plain": [
       "33"
      ]
     },
     "execution_count": 27,
     "metadata": {},
     "output_type": "execute_result"
    }
   ],
   "source": [
    "name=\"baba_aammar with dr aammar tufail\"\n",
    "len(name)\n"
   ]
  },
  {
   "cell_type": "code",
   "execution_count": 28,
   "id": "0bb5cd1c",
   "metadata": {},
   "outputs": [
    {
     "data": {
      "text/plain": [
       "32"
      ]
     },
     "execution_count": 28,
     "metadata": {},
     "output_type": "execute_result"
    }
   ],
   "source": [
    "name.find(\"l\")"
   ]
  },
  {
   "cell_type": "code",
   "execution_count": 29,
   "id": "56b5f9bc",
   "metadata": {},
   "outputs": [
    {
     "data": {
      "text/plain": [
       "0"
      ]
     },
     "execution_count": 29,
     "metadata": {},
     "output_type": "execute_result"
    }
   ],
   "source": [
    "name.find(\"b\")"
   ]
  },
  {
   "cell_type": "markdown",
   "id": "caee912e",
   "metadata": {},
   "source": [
    "### how to split a string"
   ]
  },
  {
   "cell_type": "code",
   "execution_count": 30,
   "id": "4aa0f4a5",
   "metadata": {},
   "outputs": [
    {
     "data": {
      "text/plain": [
       "['I love samosa', ' pakora', ' raita', ' biryani and karahi']"
      ]
     },
     "execution_count": 30,
     "metadata": {},
     "output_type": "execute_result"
    }
   ],
   "source": [
    "food= \"I love samosa, pakora, raita, biryani and karahi\"\n",
    "food.split(\",\")"
   ]
  },
  {
   "cell_type": "markdown",
   "id": "a7b79d28",
   "metadata": {},
   "source": [
    "# basic data structures in python\n",
    "1- tuples\n",
    "2- list\n",
    "3- dictionaries\n",
    "4- set"
   ]
  },
  {
   "cell_type": "markdown",
   "id": "bb6051c4",
   "metadata": {},
   "source": [
    "## tuples\n",
    "-ordered collection of elements.\n",
    "-enclosed in ()\n",
    "-different kind of elements can be stored.\n",
    "-once the elements are stored no one can change it."
   ]
  },
  {
   "cell_type": "code",
   "execution_count": 31,
   "id": "241cc62f",
   "metadata": {},
   "outputs": [
    {
     "data": {
      "text/plain": [
       "(1, 'python', True, 2.5)"
      ]
     },
     "execution_count": 31,
     "metadata": {},
     "output_type": "execute_result"
    }
   ],
   "source": [
    "tup1 = (1, \"python\", True, 2.5)\n",
    "tup1"
   ]
  },
  {
   "cell_type": "code",
   "execution_count": 32,
   "id": "086781f7",
   "metadata": {},
   "outputs": [
    {
     "data": {
      "text/plain": [
       "tuple"
      ]
     },
     "execution_count": 32,
     "metadata": {},
     "output_type": "execute_result"
    }
   ],
   "source": [
    "type(tup1)"
   ]
  },
  {
   "cell_type": "markdown",
   "id": "818a918c",
   "metadata": {},
   "source": [
    "### Indexing in a tuple\n"
   ]
  },
  {
   "cell_type": "code",
   "execution_count": 33,
   "id": "c4979769",
   "metadata": {},
   "outputs": [
    {
     "ename": "NameError",
     "evalue": "name 'tup' is not defined",
     "output_type": "error",
     "traceback": [
      "\u001b[1;31m---------------------------------------------------------------------------\u001b[0m",
      "\u001b[1;31mNameError\u001b[0m                                 Traceback (most recent call last)",
      "Input \u001b[1;32mIn [33]\u001b[0m, in \u001b[0;36m<cell line: 1>\u001b[1;34m()\u001b[0m\n\u001b[1;32m----> 1\u001b[0m \u001b[43mtup\u001b[49m[\u001b[38;5;241m1\u001b[39m]\n",
      "\u001b[1;31mNameError\u001b[0m: name 'tup' is not defined"
     ]
    }
   ],
   "source": [
    "tup[1]"
   ]
  },
  {
   "cell_type": "code",
   "execution_count": 34,
   "id": "0030e23e",
   "metadata": {},
   "outputs": [
    {
     "data": {
      "text/plain": [
       "1"
      ]
     },
     "execution_count": 34,
     "metadata": {},
     "output_type": "execute_result"
    }
   ],
   "source": [
    "tup1[0]"
   ]
  },
  {
   "cell_type": "code",
   "execution_count": 35,
   "id": "7a4362ed",
   "metadata": {},
   "outputs": [
    {
     "data": {
      "text/plain": [
       "'python'"
      ]
     },
     "execution_count": 35,
     "metadata": {},
     "output_type": "execute_result"
    }
   ],
   "source": [
    "tup1[1]"
   ]
  },
  {
   "cell_type": "code",
   "execution_count": 36,
   "id": "486b4e52",
   "metadata": {
    "scrolled": true
   },
   "outputs": [
    {
     "data": {
      "text/plain": [
       "True"
      ]
     },
     "execution_count": 36,
     "metadata": {},
     "output_type": "execute_result"
    }
   ],
   "source": [
    "tup1[2]"
   ]
  },
  {
   "cell_type": "code",
   "execution_count": 37,
   "id": "50e63053",
   "metadata": {},
   "outputs": [
    {
     "data": {
      "text/plain": [
       "2.5"
      ]
     },
     "execution_count": 37,
     "metadata": {},
     "output_type": "execute_result"
    }
   ],
   "source": [
    "tup1[3]"
   ]
  },
  {
   "cell_type": "code",
   "execution_count": 38,
   "id": "9fe4d790",
   "metadata": {},
   "outputs": [
    {
     "data": {
      "text/plain": [
       "(1, 'python', True, 2.5)"
      ]
     },
     "execution_count": 38,
     "metadata": {},
     "output_type": "execute_result"
    }
   ],
   "source": [
    "tup1[0:4]"
   ]
  },
  {
   "cell_type": "code",
   "execution_count": 39,
   "id": "debe4c62",
   "metadata": {},
   "outputs": [
    {
     "data": {
      "text/plain": [
       "4"
      ]
     },
     "execution_count": 39,
     "metadata": {},
     "output_type": "execute_result"
    }
   ],
   "source": [
    "len(tup1)"
   ]
  },
  {
   "cell_type": "code",
   "execution_count": 42,
   "id": "8afb1f55",
   "metadata": {},
   "outputs": [
    {
     "data": {
      "text/plain": [
       "(2, 'babaAammar', 3.5, False)"
      ]
     },
     "execution_count": 42,
     "metadata": {},
     "output_type": "execute_result"
    }
   ],
   "source": [
    "tup2 = (2, \"babaAammar\", 3.5, False)\n",
    "tup2"
   ]
  },
  {
   "cell_type": "code",
   "execution_count": 43,
   "id": "d0e8247b",
   "metadata": {},
   "outputs": [
    {
     "data": {
      "text/plain": [
       "(1, 'python', True, 2.5, 2, 'babaAammar', 3.5, False)"
      ]
     },
     "execution_count": 43,
     "metadata": {},
     "output_type": "execute_result"
    }
   ],
   "source": [
    "# concatinate\n",
    "tup1 + tup2"
   ]
  },
  {
   "cell_type": "code",
   "execution_count": 44,
   "id": "825705e3",
   "metadata": {},
   "outputs": [
    {
     "data": {
      "text/plain": [
       "(1, 'python', True, 2.5, 1, 'python', True, 2.5, 2, 'babaAammar', 3.5, False)"
      ]
     },
     "execution_count": 44,
     "metadata": {},
     "output_type": "execute_result"
    }
   ],
   "source": [
    "#concatinte+repeat\n",
    "tup1*2+tup2"
   ]
  },
  {
   "cell_type": "code",
   "execution_count": 45,
   "id": "b5358014",
   "metadata": {},
   "outputs": [
    {
     "data": {
      "text/plain": [
       "(1,\n",
       " 'python',\n",
       " True,\n",
       " 2.5,\n",
       " 2,\n",
       " 'babaAammar',\n",
       " 3.5,\n",
       " False,\n",
       " 2,\n",
       " 'babaAammar',\n",
       " 3.5,\n",
       " False)"
      ]
     },
     "execution_count": 45,
     "metadata": {},
     "output_type": "execute_result"
    }
   ],
   "source": [
    "tup1+tup2*2"
   ]
  },
  {
   "cell_type": "code",
   "execution_count": 46,
   "id": "a6b53867",
   "metadata": {},
   "outputs": [
    {
     "data": {
      "text/plain": [
       "(20, 50, 30, 79, 85)"
      ]
     },
     "execution_count": 46,
     "metadata": {},
     "output_type": "execute_result"
    }
   ],
   "source": [
    "tup3 = (20,50,30,79,85)\n",
    "tup3"
   ]
  },
  {
   "cell_type": "code",
   "execution_count": 47,
   "id": "f26f947e",
   "metadata": {},
   "outputs": [
    {
     "data": {
      "text/plain": [
       "20"
      ]
     },
     "execution_count": 47,
     "metadata": {},
     "output_type": "execute_result"
    }
   ],
   "source": [
    "min(tup3)"
   ]
  },
  {
   "cell_type": "code",
   "execution_count": 48,
   "id": "b8c5076f",
   "metadata": {},
   "outputs": [
    {
     "data": {
      "text/plain": [
       "85"
      ]
     },
     "execution_count": 48,
     "metadata": {},
     "output_type": "execute_result"
    }
   ],
   "source": [
    "max(tup3)"
   ]
  },
  {
   "cell_type": "code",
   "execution_count": 49,
   "id": "5d257fcb",
   "metadata": {},
   "outputs": [
    {
     "data": {
      "text/plain": [
       "(20, 50, 30, 79, 85, 20, 50, 30, 79, 85)"
      ]
     },
     "execution_count": 49,
     "metadata": {},
     "output_type": "execute_result"
    }
   ],
   "source": [
    "tup3*2"
   ]
  },
  {
   "cell_type": "markdown",
   "id": "38c6167e",
   "metadata": {},
   "source": [
    "---"
   ]
  },
  {
   "cell_type": "markdown",
   "id": "cef7dc78",
   "metadata": {},
   "source": [
    "## 2-Lists:\n",
    "- ordered collection of elements.\n",
    "-enclosed in []  brackets.\n",
    "-they can be changed.\n",
    "\n"
   ]
  },
  {
   "cell_type": "code",
   "execution_count": 50,
   "id": "8b1c97bf",
   "metadata": {},
   "outputs": [
    {
     "data": {
      "text/plain": [
       "[2, 'babaAammar', False]"
      ]
     },
     "execution_count": 50,
     "metadata": {},
     "output_type": "execute_result"
    }
   ],
   "source": [
    "list1 = [2, \"babaAammar\", False]\n",
    "list1"
   ]
  },
  {
   "cell_type": "code",
   "execution_count": 51,
   "id": "4153c3ee",
   "metadata": {},
   "outputs": [
    {
     "data": {
      "text/plain": [
       "list"
      ]
     },
     "execution_count": 51,
     "metadata": {},
     "output_type": "execute_result"
    }
   ],
   "source": [
    "type(list1)"
   ]
  },
  {
   "cell_type": "code",
   "execution_count": 52,
   "id": "9d4b292a",
   "metadata": {},
   "outputs": [
    {
     "data": {
      "text/plain": [
       "3"
      ]
     },
     "execution_count": 52,
     "metadata": {},
     "output_type": "execute_result"
    }
   ],
   "source": [
    "len(list1)"
   ]
  },
  {
   "cell_type": "code",
   "execution_count": 53,
   "id": "52018119",
   "metadata": {},
   "outputs": [
    {
     "data": {
      "text/plain": [
       "'babaAammar'"
      ]
     },
     "execution_count": 53,
     "metadata": {},
     "output_type": "execute_result"
    }
   ],
   "source": [
    "list1[1]"
   ]
  },
  {
   "cell_type": "code",
   "execution_count": 54,
   "id": "d35ff6e6",
   "metadata": {},
   "outputs": [
    {
     "data": {
      "text/plain": [
       "[3, 5, 'Aammar', 'codanics', 478, 53.2, False]"
      ]
     },
     "execution_count": 54,
     "metadata": {},
     "output_type": "execute_result"
    }
   ],
   "source": [
    "list2=[3,5, \"Aammar\", \"codanics\", 478, 53.2, False]\n",
    "list2"
   ]
  },
  {
   "cell_type": "code",
   "execution_count": 55,
   "id": "fe7c45eb",
   "metadata": {},
   "outputs": [
    {
     "data": {
      "text/plain": [
       "[2, 'babaAammar', False, 3, 5, 'Aammar', 'codanics', 478, 53.2, False]"
      ]
     },
     "execution_count": 55,
     "metadata": {},
     "output_type": "execute_result"
    }
   ],
   "source": [
    "#concatinate \n",
    "list1 + list2"
   ]
  },
  {
   "cell_type": "code",
   "execution_count": 57,
   "id": "cb0fb16e",
   "metadata": {},
   "outputs": [
    {
     "data": {
      "text/plain": [
       "[2, 'babaAammar', False, 2, 'babaAammar', False]"
      ]
     },
     "execution_count": 57,
     "metadata": {},
     "output_type": "execute_result"
    }
   ],
   "source": [
    "list1*2\n",
    "\n",
    "\n",
    "\n",
    "\n",
    "\n",
    "\n",
    "\n",
    "\n",
    "\n"
   ]
  },
  {
   "cell_type": "code",
   "execution_count": 58,
   "id": "426f61b6",
   "metadata": {},
   "outputs": [
    {
     "data": {
      "text/plain": [
       "[False, 'babaAammar', 2]"
      ]
     },
     "execution_count": 58,
     "metadata": {},
     "output_type": "execute_result"
    }
   ],
   "source": [
    "list1.reverse()\n",
    "list1"
   ]
  },
  {
   "cell_type": "code",
   "execution_count": 59,
   "id": "9684e1d6",
   "metadata": {},
   "outputs": [
    {
     "data": {
      "text/plain": [
       "[2, 'babaAammar', False]"
      ]
     },
     "execution_count": 59,
     "metadata": {},
     "output_type": "execute_result"
    }
   ],
   "source": [
    "list1.reverse()\n",
    "list1"
   ]
  },
  {
   "cell_type": "code",
   "execution_count": 61,
   "id": "c2bccb17",
   "metadata": {},
   "outputs": [
    {
     "data": {
      "text/plain": [
       "[2,\n",
       " 'babaAammar',\n",
       " False,\n",
       " 'codanics youtube channel',\n",
       " 'codanics youtube channel']"
      ]
     },
     "execution_count": 61,
     "metadata": {},
     "output_type": "execute_result"
    }
   ],
   "source": [
    "list1.append(\"codanics youtube channel\")\n",
    "list1"
   ]
  },
  {
   "cell_type": "code",
   "execution_count": 62,
   "id": "68fa4c90",
   "metadata": {},
   "outputs": [
    {
     "data": {
      "text/plain": [
       "[20, 30, 35, 50, 40, 12, 15, 11, 10, 356, 56, 886]"
      ]
     },
     "execution_count": 62,
     "metadata": {},
     "output_type": "execute_result"
    }
   ],
   "source": [
    "list3=[20,30,35,50,40,12,15,11,10,356,56,886]\n",
    "list3"
   ]
  },
  {
   "cell_type": "code",
   "execution_count": 63,
   "id": "6d7c3524",
   "metadata": {},
   "outputs": [
    {
     "data": {
      "text/plain": [
       "12"
      ]
     },
     "execution_count": 63,
     "metadata": {},
     "output_type": "execute_result"
    }
   ],
   "source": [
    "len(list3)"
   ]
  },
  {
   "cell_type": "code",
   "execution_count": 64,
   "id": "430828e3",
   "metadata": {},
   "outputs": [
    {
     "data": {
      "text/plain": [
       "[20, 30, 35, 50, 40, 12, 15, 11, 10, 356, 56, 886]"
      ]
     },
     "execution_count": 64,
     "metadata": {},
     "output_type": "execute_result"
    }
   ],
   "source": [
    "list3[0:13]"
   ]
  },
  {
   "cell_type": "code",
   "execution_count": 66,
   "id": "c1f89061",
   "metadata": {},
   "outputs": [
    {
     "data": {
      "text/plain": [
       "[10, 11, 12, 15, 20, 30, 35, 40, 50, 56, 356, 886]"
      ]
     },
     "execution_count": 66,
     "metadata": {},
     "output_type": "execute_result"
    }
   ],
   "source": [
    "list3.sort()\n",
    "list3"
   ]
  },
  {
   "cell_type": "code",
   "execution_count": 67,
   "id": "c6e6ddba",
   "metadata": {
    "scrolled": true
   },
   "outputs": [
    {
     "data": {
      "text/plain": [
       "[2,\n",
       " 'babaAammar',\n",
       " False,\n",
       " 'codanics youtube channel',\n",
       " 'codanics youtube channel',\n",
       " 3,\n",
       " 5,\n",
       " 'Aammar',\n",
       " 'codanics',\n",
       " 478,\n",
       " 53.2,\n",
       " False,\n",
       " 10,\n",
       " 11,\n",
       " 12,\n",
       " 15,\n",
       " 20,\n",
       " 30,\n",
       " 35,\n",
       " 40,\n",
       " 50,\n",
       " 56,\n",
       " 356,\n",
       " 886]"
      ]
     },
     "execution_count": 67,
     "metadata": {},
     "output_type": "execute_result"
    }
   ],
   "source": [
    "lists = list1+list2+list3\n",
    "lists"
   ]
  },
  {
   "cell_type": "markdown",
   "id": "ed580aed",
   "metadata": {},
   "source": [
    "# 3- Dictionaries:\n",
    "-An unordered collection of elements.\n",
    "-key and value.\n",
    "-curly and square brackets.\n",
    "-mutatable,we can change the values."
   ]
  },
  {
   "cell_type": "code",
   "execution_count": 68,
   "id": "d547e5a6",
   "metadata": {},
   "outputs": [
    {
     "data": {
      "text/plain": [
       "{'samosa': 30, 'pakora': 100, 'raita': 20, 'salad': 50, 'chicken rolls': 30}"
      ]
     },
     "execution_count": 68,
     "metadata": {},
     "output_type": "execute_result"
    }
   ],
   "source": [
    "#food and their prices\n",
    "food1={\"samosa\":30, \"pakora\":100, \"raita\":20, \"salad\":50, \"chicken rolls\":30}\n",
    "food1"
   ]
  },
  {
   "cell_type": "code",
   "execution_count": 69,
   "id": "d59034ac",
   "metadata": {},
   "outputs": [
    {
     "data": {
      "text/plain": [
       "dict"
      ]
     },
     "execution_count": 69,
     "metadata": {},
     "output_type": "execute_result"
    }
   ],
   "source": [
    "type(food1)"
   ]
  },
  {
   "cell_type": "code",
   "execution_count": 70,
   "id": "f215516c",
   "metadata": {},
   "outputs": [
    {
     "data": {
      "text/plain": [
       "dict_keys(['samosa', 'pakora', 'raita', 'salad', 'chicken rolls'])"
      ]
     },
     "execution_count": 70,
     "metadata": {},
     "output_type": "execute_result"
    }
   ],
   "source": [
    "food1.keys()"
   ]
  },
  {
   "cell_type": "code",
   "execution_count": 71,
   "id": "7dd53398",
   "metadata": {},
   "outputs": [
    {
     "data": {
      "text/plain": [
       "dict_values([30, 100, 20, 50, 30])"
      ]
     },
     "execution_count": 71,
     "metadata": {},
     "output_type": "execute_result"
    }
   ],
   "source": [
    "food1.values()"
   ]
  },
  {
   "cell_type": "code",
   "execution_count": 75,
   "id": "8438a0cf",
   "metadata": {},
   "outputs": [
    {
     "data": {
      "text/plain": [
       "{'samosa': 30,\n",
       " 'pakora': 100,\n",
       " 'raita': 20,\n",
       " 'salad': 50,\n",
       " 'chicken rolls': 30,\n",
       " 'tikki': 10}"
      ]
     },
     "execution_count": 75,
     "metadata": {},
     "output_type": "execute_result"
    }
   ],
   "source": [
    "food1[\"tikki\"]=10\n",
    "food1"
   ]
  },
  {
   "cell_type": "code",
   "execution_count": 87,
   "id": "1b8266cb",
   "metadata": {},
   "outputs": [
    {
     "data": {
      "text/plain": [
       "{'samosa': 30,\n",
       " 'pakora': 100,\n",
       " 'raita': 20,\n",
       " 'salad': 50,\n",
       " 'chicken rolls': 30,\n",
       " 'tikki': 15}"
      ]
     },
     "execution_count": 87,
     "metadata": {},
     "output_type": "execute_result"
    }
   ],
   "source": [
    "food1[\"tikki\"]=15\n",
    "food1"
   ]
  },
  {
   "cell_type": "code",
   "execution_count": 88,
   "id": "2b40b265",
   "metadata": {},
   "outputs": [
    {
     "data": {
      "text/plain": [
       "{'dates': 50, 'chocolates': 200, 'sawayyan': 1000}"
      ]
     },
     "execution_count": 88,
     "metadata": {},
     "output_type": "execute_result"
    }
   ],
   "source": [
    "food2 = {\"dates\":50, \"chocolates\":200, \"sawayyan\":1000}\n",
    "food2"
   ]
  },
  {
   "cell_type": "code",
   "execution_count": 90,
   "id": "72531d59",
   "metadata": {},
   "outputs": [
    {
     "data": {
      "text/plain": [
       "{'samosa': 30,\n",
       " 'pakora': 100,\n",
       " 'raita': 20,\n",
       " 'salad': 50,\n",
       " 'chicken rolls': 30,\n",
       " 'tikki': 15,\n",
       " 'dates': 50,\n",
       " 'chocolates': 200,\n",
       " 'sawayyan': 1000}"
      ]
     },
     "execution_count": 90,
     "metadata": {},
     "output_type": "execute_result"
    }
   ],
   "source": [
    "food1.update(food2)\n",
    "food1"
   ]
  },
  {
   "cell_type": "markdown",
   "id": "578aaf48",
   "metadata": {},
   "source": [
    "## Sets\n",
    "-unordered and unindexedarrangement of elements.\n",
    "-curly braces are used{}.\n",
    "-no duplicates are allowed.\n",
    "-you can only use strings, float number and integars.\n",
    "-you cannot add boolean expressions."
   ]
  },
  {
   "cell_type": "code",
   "execution_count": 91,
   "id": "8946f9c9",
   "metadata": {},
   "outputs": [
    {
     "data": {
      "text/plain": [
       "{1, 2.1, 5.2, 'Aammar', 'Codanics', 'faisalabad'}"
      ]
     },
     "execution_count": 91,
     "metadata": {},
     "output_type": "execute_result"
    }
   ],
   "source": [
    "s1 = {1,2.1,5.2,\"Aammar\", \"Codanics\", \"faisalabad\", True}\n",
    "s1"
   ]
  },
  {
   "cell_type": "code",
   "execution_count": 93,
   "id": "2ce1fdb0",
   "metadata": {},
   "outputs": [
    {
     "data": {
      "text/plain": [
       "{1, 2.1, 5.2, 'Aammar', 'Codanics', 'aammar1', 'faisalabad'}"
      ]
     },
     "execution_count": 93,
     "metadata": {},
     "output_type": "execute_result"
    }
   ],
   "source": [
    "s1.add(\"aammar1\")\n",
    "s1"
   ]
  },
  {
   "cell_type": "code",
   "execution_count": 94,
   "id": "07153a3c",
   "metadata": {},
   "outputs": [
    {
     "data": {
      "text/plain": [
       "{1, 2.1, 5.2, 'Aammar', 'Codanics', 'aammar1', 'faisalabad'}"
      ]
     },
     "execution_count": 94,
     "metadata": {},
     "output_type": "execute_result"
    }
   ],
   "source": [
    "s1"
   ]
  },
  {
   "cell_type": "code",
   "execution_count": 95,
   "id": "ed379b45",
   "metadata": {},
   "outputs": [
    {
     "data": {
      "text/plain": [
       "{1, 2.1, 5.2, 'Aammar', 'Codanics', 'faisalabad'}"
      ]
     },
     "execution_count": 95,
     "metadata": {},
     "output_type": "execute_result"
    }
   ],
   "source": [
    "s1.remove(\"aammar1\")\n",
    "s1"
   ]
  },
  {
   "cell_type": "code",
   "execution_count": null,
   "id": "73037723",
   "metadata": {},
   "outputs": [],
   "source": []
  },
  {
   "cell_type": "code",
   "execution_count": null,
   "id": "4943a6f6",
   "metadata": {},
   "outputs": [],
   "source": []
  }
 ],
 "metadata": {
  "kernelspec": {
   "display_name": "Python 3 (ipykernel)",
   "language": "python",
   "name": "python3"
  },
  "language_info": {
   "codemirror_mode": {
    "name": "ipython",
    "version": 3
   },
   "file_extension": ".py",
   "mimetype": "text/x-python",
   "name": "python",
   "nbconvert_exporter": "python",
   "pygments_lexer": "ipython3",
   "version": "3.9.12"
  }
 },
 "nbformat": 4,
 "nbformat_minor": 5
}
